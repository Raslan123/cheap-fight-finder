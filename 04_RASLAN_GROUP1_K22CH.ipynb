{
 "cells": [
  {
   "cell_type": "code",
   "execution_count": null,
   "metadata": {},
   "outputs": [],
   "source": [
    "import selenium\n",
    "from selenium import webdriver as wb\n",
    "import pandas as pd\n",
    "import numpy as np\n",
    "import datetime\n",
    "import time\n",
    "from datetime import date\n"
   ]
  },
  {
   "cell_type": "code",
   "execution_count": null,
   "metadata": {},
   "outputs": [],
   "source": [
    "get_ipython().run_line_magic('cd', 'C:/Users/rasla/OneDrive/Desktop/sel.py/chromedriver.exe')\n",
    "driver = wb.Chrome(\"C:/Users/rasla/OneDrive/Desktop/sel.py/chromedriver.exe\")"
   ]
  },
  {
   "cell_type": "code",
   "execution_count": null,
   "metadata": {},
   "outputs": [],
   "source": [
    "month = [11,11,11,11,11,11,11]\n",
    "month = [str(x).zfill(2) for x in month]\n",
    "day = [17,18,19,20,21,22,23,24,25]\n",
    "day = [str(x).zfill(2) for x in day]\n",
    "year = [2022,2022,2022,2022,2022,2022,2022]\n",
    "year = [str(x).zfill(4) for x in year]"
   ]
  },
  {
   "cell_type": "code",
   "execution_count": null,
   "metadata": {},
   "outputs": [],
   "source": [
    "Flight_Prices = pd.DataFrame()\n",
    "\n",
    "for a,b,c in zip(day,month,year):\n",
    "    driver.get(\"https://www.makemytrip.com/flight/search?tripType=O&itinerary=ATQ-CCJ-{}/{}/{}&paxType=A-1_C-0_I-0&cabinClass=E&sTime=1597828876664&forwardFlowRequired=true\".format(a,b,c))\n",
    "    time.sleep(15)\n",
    "    \n",
    "    lenOfPage = driver.execute_script(\"window.scrollTo(0, document.body.scrollHeight);var lenOfPage=document.body.scrollHeight;return lenOfPage;\")\n",
    "    match=False\n",
    "    while(match==False):\n",
    "        lastCount = lenOfPage\n",
    "        time.sleep(1)\n",
    "        lenOfPage = driver.execute_script(\"window.scrollTo(0, document.body.scrollHeight);var lenOfPage=document.body.scrollHeight;return lenOfPage;\")\n",
    "        if lastCount==lenOfPage:\n",
    "            match=True\n",
    "    \n",
    "    time.sleep(60)\n",
    "    FlightName_elements = driver.find_elements_by_xpath(\"//div[@class='pull-left airways-info-sect']\")\n",
    "    FlightName_elements = [x.text for x in FlightName_elements]\n",
    "    FlightName = [x.split('\\n')[0] for x in FlightName_elements]\n",
    "    FlightName = pd.Series(FlightName)\n",
    "    \n",
    "    Price_elements = driver.find_elements_by_xpath(\"//span[@class='actual-price']\")\n",
    "    Price = [x.text for x in Price_elements]\n",
    "    Price = [i for i in Price if i]\n",
    "    Price = pd.Series(Price)\n",
    "    \n",
    "    Fromcity_elements = driver.find_elements_by_xpath(\"//p[@class='dept-city']\")\n",
    "    Fromcity = [x.text for x in Fromcity_elements]\n",
    "    Fromcity = pd.Series(Fromcity)\n",
    "    \n",
    "    Tocity_elements = driver.find_elements_by_xpath(\"//p[@class='arrival-city']\")\n",
    "    Tocity = [x.text for x in Tocity_elements]\n",
    "    Tocity = pd.Series(Tocity)\n",
    "    \n",
    "    Duration_elements = driver.find_elements_by_xpath(\"//p[@class='fli-duration']\")\n",
    "    Duration = [x.text for x in Duration_elements]\n",
    "    Duration = pd.Series(Duration)\n",
    "    \n",
    "    Deptime_elements = driver.find_elements_by_xpath(\"//div[@class='dept-time']\")\n",
    "    Deptime = [x.text for x in Deptime_elements]\n",
    "    Deptime = pd.Series(Deptime)\n",
    "    \n",
    "    Arrtime_elements = driver.find_elements_by_xpath(\"//p[@class='reaching-time append_bottom3']\")\n",
    "    Arrtime = [x.text for x in Arrtime_elements]\n",
    "    Arrtime = [x.split(\"+\", 1)[0] for x in Arrtime]\n",
    "    Arrtime = pd.Series(Arrtime)\n",
    "    \n",
    "    Date_elements = driver.find_elements_by_xpath(\"//div[@class='item blue_active']\")\n",
    "    Date_elements = [x.text for x in Date_elements]\n",
    "    x = [x.split(',', 1)[1] for x in Date_elements]\n",
    "    Date = [i.split('\\n', 1)[0] for i in x]\n",
    "    Date = pd.Series(Date)\n",
    "            \n",
    "    df = pd.DataFrame({'Date':Date,\"Airline\":FlightName,\"From City\":Fromcity, \"To City\":Tocity, \"Departure Time\":Deptime,\"Arrival Time\":Arrtime,\"Flight Duration\":Duration,\"Price\":Price})\n",
    "    \n",
    "    Flight_Prices = Flight_Prices.append(df) \n",
    "        \n",
    "Flight_Prices[Flight_Prices.Date==\"\"] = np.NaN\n",
    "Flight_Prices.Date = Flight_Prices.Date.fillna(method='ffill')\n",
    "Flight_Prices.Price = Flight_Prices.Price.str.replace(\",\",\"\").str.extract('(\\d+)')\n",
    "Flight_Prices\n"
   ]
  },
  {
   "cell_type": "code",
   "execution_count": null,
   "metadata": {},
   "outputs": [],
   "source": [
    "Flight_Prices = Flight_Prices[Flight_Prices['Price'].notna()]\n",
    "Flight_Prices['Price'] = pd.to_numeric(Flight_Prices['Price'])"
   ]
  },
  {
   "cell_type": "code",
   "execution_count": null,
   "metadata": {},
   "outputs": [],
   "source": [
    "Flight_Prices = Flight_Prices[(Flight_Prices['Departure Time']>='15:00') & (Flight_Prices['Departure Time']<= '18:00')]\n",
    "Flight_Prices"
   ]
  },
  {
   "cell_type": "code",
   "execution_count": null,
   "metadata": {},
   "outputs": [],
   "source": [
    "Flight_Prices = Flight_Prices.loc[Flight_Prices.groupby('Date')['Price'].idxmin()]\n",
    "Flight_Prices = Flight_Prices.drop_duplicates('Date')\n",
    "Flight_Prices"
   ]
  },
  {
   "cell_type": "code",
   "execution_count": null,
   "metadata": {},
   "outputs": [],
   "source": []
  }
 ],
 "metadata": {
  "kernelspec": {
   "display_name": "Python 3",
   "language": "python",
   "name": "python3"
  },
  "language_info": {
   "codemirror_mode": {
    "name": "ipython",
    "version": 3
   },
   "file_extension": ".py",
   "mimetype": "text/x-python",
   "name": "python",
   "nbconvert_exporter": "python",
   "pygments_lexer": "ipython3",
   "version": "3.7.1"
  }
 },
 "nbformat": 4,
 "nbformat_minor": 2
}
